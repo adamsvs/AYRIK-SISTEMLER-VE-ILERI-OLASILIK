{
  "nbformat": 4,
  "nbformat_minor": 0,
  "metadata": {
    "colab": {
      "provenance": [],
      "authorship_tag": "ABX9TyNPdrlVEWxIZNoqAW+Ja2N9",
      "include_colab_link": true
    },
    "kernelspec": {
      "name": "python3",
      "display_name": "Python 3"
    },
    "language_info": {
      "name": "python"
    }
  },
  "cells": [
    {
      "cell_type": "markdown",
      "metadata": {
        "id": "view-in-github",
        "colab_type": "text"
      },
      "source": [
        "<a href=\"https://colab.research.google.com/github/adamsvs/AYRIK-SISTEMLER-VE-ILERI-OLASILIK/blob/main/HW2.ipynb\" target=\"_parent\"><img src=\"https://colab.research.google.com/assets/colab-badge.svg\" alt=\"Open In Colab\"/></a>"
      ]
    },
    {
      "cell_type": "code",
      "source": [
        "from math import factorial\n",
        "\n",
        "def combination(n, r):\n",
        "    return factorial(n) // (factorial(n - r) * factorial(r))"
      ],
      "metadata": {
        "id": "dp-xv9ZK2Opd"
      },
      "execution_count": 2,
      "outputs": []
    },
    {
      "cell_type": "markdown",
      "source": [
        "SORU 1:\n",
        "\n",
        "5 evli çiftin olduğu 10 kişilik bir gruptan 2 kişi seçilecektir.\n",
        "Seçilen iki kişinin evli çift olma olasılığı kaçtır ?"
      ],
      "metadata": {
        "id": "sdV9jYoSz2dQ"
      }
    },
    {
      "cell_type": "markdown",
      "source": [
        "ÇÖZÜM 1:\n",
        "\n",
        "C(10,2)=45 olduğundan s(E)=45'tir.\n",
        "Seçilen iki kişinin evli olduğu olaya Ç dersek, 5 evli çift olduğundan s(Ç)=5'tir.\n",
        "Seçilen iki kişinin evli çift olma olasılığı P(Ç)=5/45=1/9 bulunur."
      ],
      "metadata": {
        "id": "6LgXXqFD1896"
      }
    },
    {
      "cell_type": "code",
      "source": [
        "s_e = combination(10,2)\n",
        "s_c = 5\n",
        "result = s_c / s_e\n",
        "print(\"Seçilen iki kişinin evli çift olma olasılığıi  {:.5f}\".format(result))"
      ],
      "metadata": {
        "colab": {
          "base_uri": "https://localhost:8080/"
        },
        "id": "BUJCkKOr2W1U",
        "outputId": "e85fbab3-4465-4bd3-fd60-ff7ba9aa3fad"
      },
      "execution_count": 3,
      "outputs": [
        {
          "output_type": "stream",
          "name": "stdout",
          "text": [
            "Seçilen iki kişinin evli çift olma olasılığıi  0.11111\n"
          ]
        }
      ]
    },
    {
      "cell_type": "markdown",
      "source": [
        "SORU 2:\n",
        "\n",
        "Bir torbada 12 bilyeden 4'ü mavi, 3'ü sarı ve 5'i kırmızıdır. Bu torbadan aynı anda 3 bilye seçiliyor.\n",
        "\n",
        "Seçilen bilyelerinin üçününde aynı renk olduğu bilindiğine göre, üçününde kırmızı olma olasılığı nedir ?\n"
      ],
      "metadata": {
        "id": "pU03Ut-p20Vh"
      }
    },
    {
      "cell_type": "markdown",
      "source": [
        "ÇÖZÜM 2:\n",
        "\n",
        "C(12,3)=220 ise S(E)=220'dir. seçilen 3 bilyenin aynı renk olması olasılığına B diyelim\n",
        "s(B)=C(5,3)+C(4,3)+C(3,3)=10+4+1=15 olur.\n",
        "Seçilen üç bilyenin kırmızı olma olayı A ise S(A)=C(5,3)=10\n",
        "A kümesinin elemanları aynı zamanda B kümesinin elemanı olduğundan s(A∩B)=10\n",
        "P(A/B)=P(A∩B)/P(B)=(10/220)/(15/220)=2/3 bulunur."
      ],
      "metadata": {
        "id": "fCwaXHIe27oX"
      }
    },
    {
      "cell_type": "code",
      "source": [
        "s_e = combination(12,3)\n",
        "s_b = combination(5,3)+combination(4,3)+combination(3,3)\n",
        "s_a = combination(5,3)\n",
        "result = (s_a/s_e)/(s_b/s_e)\n",
        "print(\"Seçilen bilyelerinin üçününde aynı renk olduğu bilindiğine göre üçününde kırmızı olma olasııi  {:.5f}\".format(result))"
      ],
      "metadata": {
        "colab": {
          "base_uri": "https://localhost:8080/"
        },
        "id": "9iNZjJ9_3NIN",
        "outputId": "3174db97-f7c5-46bd-bb3a-557fcc093f96"
      },
      "execution_count": 4,
      "outputs": [
        {
          "output_type": "stream",
          "name": "stdout",
          "text": [
            "Seçilen bilyelerinin üçününde aynı renk olduğu bilindiğine göre üçününde kırmızı olma olasııi  0.66667\n"
          ]
        }
      ]
    }
  ]
}